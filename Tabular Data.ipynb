{
 "cells": [
  {
   "cell_type": "markdown",
   "id": "3acfb4d1",
   "metadata": {},
   "source": [
    "# Tabular Data as a Nested List"
   ]
  },
  {
   "cell_type": "code",
   "execution_count": 42,
   "id": "fcd2df4f",
   "metadata": {
    "scrolled": true
   },
   "outputs": [
    {
     "name": "stdout",
     "output_type": "stream",
     "text": [
      "[['Language', 2017, 2012, 2007, 2002, 1997, 1992, 1987], ['Java', 1, 2, 1, 1, 15, 0, 0], ['C', 2, 1, 2, 2, 1, 1, 1], ['C++', 3, 3, 3, 3, 2, 2, 5], ['C#', 4, 4, 7, 13, 0, 0, 0], ['Python', 5, 7, 6, 11, 27, 0, 0], ['Visual Basic .NET', 6, 17, 0, 0, 0, 0, 0], ['PHP', 7, 6, 4, 5, 0, 0, 0], ['JavaScript', 8, 9, 8, 7, 23, 0, 0], ['Perl', 9, 8, 5, 4, 4, 10, 0]]\n"
     ]
    }
   ],
   "source": [
    "popularity = [[\"Language\",2017,2012,2007,2002,1997,1992,1987],\n",
    "             [\"Java\",1,2,1,1,15,0,0],\n",
    "             [\"C\",2,1,2,2,1,1,1],\n",
    "             [\"C++\",3,3,3,3,2,2,5],\n",
    "             [\"C#\",4,4,7,13,0,0,0],\n",
    "             [\"Python\",5,7,6,11,27,0,0],\n",
    "             [\"Visual Basic .NET\", 6, 17, 0, 0, 0, 0, 0],\n",
    "             [\"PHP\", 7, 6, 4, 5, 0, 0, 0],\n",
    "             [\"JavaScript\", 8, 9, 8, 7, 23, 0, 0],\n",
    "             [\"Perl\", 9, 8, 5, 4, 4, 10, 0]]\n",
    "print(popularity)"
   ]
  },
  {
   "cell_type": "code",
   "execution_count": 43,
   "id": "99a7a41e",
   "metadata": {},
   "outputs": [
    {
     "name": "stdout",
     "output_type": "stream",
     "text": [
      "{:<20}  {:>4}  {:>4}  {:>4}  {:>4}  {:>4}  {:>4}  {:>4}\n"
     ]
    }
   ],
   "source": [
    "format_string = \"{:<20}  {:>4}  {:>4}  {:>4}  {:>4}  {:>4}  {:>4}  {:>4}\"\n",
    "print(format_string)"
   ]
  },
  {
   "cell_type": "code",
   "execution_count": 44,
   "id": "44be9704",
   "metadata": {},
   "outputs": [
    {
     "name": "stdout",
     "output_type": "stream",
     "text": [
      "['Language', 2017, 2012, 2007, 2002, 1997, 1992, 1987]\n",
      "Language              2017  2012  2007  2002  1997  1992  1987\n",
      "--------------------------------------------------------------\n"
     ]
    }
   ],
   "source": [
    "# Display langauges table\n",
    "headers = popularity[0]\n",
    "print(headers)\n",
    "header_row = format_string.format(*headers)\n",
    "print(header_row)\n",
    "print(\"-\" * len(header_row))\n"
   ]
  },
  {
   "cell_type": "code",
   "execution_count": 45,
   "id": "d1d14c39",
   "metadata": {},
   "outputs": [
    {
     "name": "stdout",
     "output_type": "stream",
     "text": [
      "Language              2017  2012  2007  2002  1997  1992  1987\n",
      "Java                     1     2     1     1    15     0     0\n",
      "C                        2     1     2     2     1     1     1\n",
      "C++                      3     3     3     3     2     2     5\n",
      "C#                       4     4     7    13     0     0     0\n",
      "Python                   5     7     6    11    27     0     0\n",
      "Visual Basic .NET        6    17     0     0     0     0     0\n",
      "PHP                      7     6     4     5     0     0     0\n",
      "JavaScript               8     9     8     7    23     0     0\n",
      "Perl                     9     8     5     4     4    10     0\n",
      "\n"
     ]
    }
   ],
   "source": [
    "for language in popularity[0:]:\n",
    "    print(format_string.format(*language))\n",
    "print(\"\")"
   ]
  },
  {
   "cell_type": "code",
   "execution_count": 46,
   "id": "735e7ffc",
   "metadata": {},
   "outputs": [
    {
     "name": "stdout",
     "output_type": "stream",
     "text": [
      "Python's popularity in 1997: 27\n"
     ]
    }
   ],
   "source": [
    "# Finding/selecting items\n",
    "# What was Python's popularity in 1997?\n",
    "print(f\"Python's popularity in 1997:\",popularity[5][5])"
   ]
  },
  {
   "cell_type": "code",
   "execution_count": 55,
   "id": "d6435c90",
   "metadata": {},
   "outputs": [],
   "source": [
    "def find_col(table,col):\n",
    "    \"\"\"\n",
    "    Return column index with col header in table\n",
    "    or -1 if col is not in table\n",
    "    \"\"\"\n",
    "    return table[0].index(col)"
   ]
  },
  {
   "cell_type": "code",
   "execution_count": 79,
   "id": "b81d2fc4",
   "metadata": {},
   "outputs": [
    {
     "name": "stdout",
     "output_type": "stream",
     "text": [
      "5\n"
     ]
    }
   ],
   "source": [
    "c= find_col(popularity,1997)\n",
    "print(c)"
   ]
  },
  {
   "cell_type": "code",
   "execution_count": 80,
   "id": "d75b5e09",
   "metadata": {},
   "outputs": [],
   "source": [
    "def find_row(table,row):\n",
    "    \"\"\"\n",
    "    Return row index with row header in table or\n",
    "    -1 if row is not in table\n",
    "    \"\"\"\n",
    "    for idx in range(len(table)):\n",
    "        if table[idx][0] == row:\n",
    "            return idx\n",
    "    return -1"
   ]
  },
  {
   "cell_type": "code",
   "execution_count": 83,
   "id": "e7ae0f1a",
   "metadata": {},
   "outputs": [
    {
     "name": "stdout",
     "output_type": "stream",
     "text": [
      "5\n"
     ]
    }
   ],
   "source": [
    "r = find_row(popularity,\"Python\")\n",
    "print(r)"
   ]
  },
  {
   "cell_type": "code",
   "execution_count": 84,
   "id": "5be0ed2f",
   "metadata": {},
   "outputs": [
    {
     "name": "stdout",
     "output_type": "stream",
     "text": [
      "Python's popularity in 1997: 27\n"
     ]
    }
   ],
   "source": [
    "print(f\"Python's popularity in 1997: {popularity[r][c]}\")"
   ]
  },
  {
   "cell_type": "markdown",
   "id": "71ca6d3a",
   "metadata": {},
   "source": [
    "# Tabular Data as a Nested Dictionary"
   ]
  },
  {
   "cell_type": "code",
   "execution_count": 3,
   "id": "b5ea3f3a",
   "metadata": {},
   "outputs": [],
   "source": [
    "# Top 10 software products with the most vulnerabilities in 2017\n",
    "# (through August).  From www.cvedetails.com.\n",
    "vulnerabilities2017 = {\n",
    "    'Android': {'vendor': 'Google',\n",
    "                'type': 'Operating System',\n",
    "                'number': 564},\n",
    "    'Linux Kernel': {'vendor': 'Linux',\n",
    "                     'type': 'Operating System',\n",
    "                     'number': 367},\n",
    "    'Imagemagick': {'vendor': 'Imagemagick',\n",
    "                    'type': 'Application',\n",
    "                    'number': 307},\n",
    "    'IPhone OS': {'vendor': 'Apple',\n",
    "                  'type': 'Operating System',\n",
    "                  'number': 290},\n",
    "    'Mac OS X': {'vendor': 'Apple',\n",
    "                 'type': 'Operating System',\n",
    "                 'number': 210},\n",
    "    'Windows 10': {'vendor': 'Microsoft',\n",
    "                   'type': 'Operating System',\n",
    "                   'number': 195},\n",
    "    'Windows Server 2008': {'vendor': 'Microsoft',\n",
    "                            'type': 'Operating System',\n",
    "                            'number': 187},\n",
    "    'Windows Server 2016': {'vendor': 'Microsoft',\n",
    "                            'type': 'Operating System',\n",
    "                            'number': 183},\n",
    "    'Windows Server 2012': {'vendor': 'Microsoft',\n",
    "                            'type': 'Operating System',\n",
    "                            'number': 176},\n",
    "    'Windows 7': {'vendor': 'Microsoft',\n",
    "                  'type': 'Operating System',\n",
    "                  'number': 174}\n",
    "}"
   ]
  },
  {
   "cell_type": "code",
   "execution_count": 35,
   "id": "a15b4424",
   "metadata": {},
   "outputs": [
    {
     "name": "stdout",
     "output_type": "stream",
     "text": [
      "Product               Vendor        Type               Vulnerabilities\n",
      "----------------------------------------------------------------------\n",
      "Android               Google        Operating System        564\n",
      "Linux Kernel          Linux         Operating System        367\n",
      "Imagemagick           Imagemagick   Application             307\n",
      "IPhone OS             Apple         Operating System        290\n",
      "Mac OS X              Apple         Operating System        210\n",
      "Windows 10            Microsoft     Operating System        195\n",
      "Windows Server 2008   Microsoft     Operating System        187\n",
      "Windows Server 2016   Microsoft     Operating System        183\n",
      "Windows Server 2012   Microsoft     Operating System        176\n",
      "Windows 7             Microsoft     Operating System        174\n",
      "\n"
     ]
    }
   ],
   "source": [
    "# Display vulnerabilities table\n",
    "print(\"Product               Vendor        Type               Vulnerabilities\")\n",
    "print(\"----------------------------------------------------------------------\")\n",
    "for product, values in vulnerabilities2017.items():\n",
    "#     row=\"{:21} {:13} {:18} {:8}\".format(product, values['vendor'],values['type'],values['number'])\n",
    "    row = f\"{product:21} {values['vendor']:13} {values['type']:18} {values['number']:8}\"\n",
    "    print(row)\n",
    "print(\"\")"
   ]
  },
  {
   "cell_type": "code",
   "execution_count": 39,
   "id": "eb12308f",
   "metadata": {},
   "outputs": [
    {
     "name": "stdout",
     "output_type": "stream",
     "text": [
      "174\n"
     ]
    }
   ],
   "source": [
    "# Finding/selecting items\n",
    "# How many vulnerabilites does Windows 7 have?\n",
    "print(vulnerabilities2017['Windows 7']['number'])"
   ]
  },
  {
   "cell_type": "code",
   "execution_count": 50,
   "id": "00dbeeb6",
   "metadata": {},
   "outputs": [],
   "source": [
    "# What product had the most vulnerabilities?\n",
    "maxproduct = None\n",
    "maxnumber = -1"
   ]
  },
  {
   "cell_type": "code",
   "execution_count": 52,
   "id": "6eb58d63",
   "metadata": {},
   "outputs": [
    {
     "name": "stdout",
     "output_type": "stream",
     "text": [
      "Android 564\n"
     ]
    }
   ],
   "source": [
    "for product, values in vulnerabilities2017.items():\n",
    "    if values['number'] > maxnumber:\n",
    "        maxproduct = product\n",
    "        maxnumber = values['number']\n",
    "\n",
    "print(maxproduct, maxnumber)"
   ]
  }
 ],
 "metadata": {
  "kernelspec": {
   "display_name": "Python 3 (ipykernel)",
   "language": "python",
   "name": "python3"
  },
  "language_info": {
   "codemirror_mode": {
    "name": "ipython",
    "version": 3
   },
   "file_extension": ".py",
   "mimetype": "text/x-python",
   "name": "python",
   "nbconvert_exporter": "python",
   "pygments_lexer": "ipython3",
   "version": "3.9.12"
  }
 },
 "nbformat": 4,
 "nbformat_minor": 5
}
