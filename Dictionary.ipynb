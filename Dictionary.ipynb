{
 "cells": [
  {
   "cell_type": "markdown",
   "id": "03650a14",
   "metadata": {},
   "source": [
    "# Dictionary creation"
   ]
  },
  {
   "cell_type": "code",
   "execution_count": 1,
   "id": "d69ae9a5",
   "metadata": {},
   "outputs": [
    {
     "name": "stdout",
     "output_type": "stream",
     "text": [
      "{}\n"
     ]
    }
   ],
   "source": [
    "empty = {}\n",
    "print(empty)"
   ]
  },
  {
   "cell_type": "code",
   "execution_count": 2,
   "id": "753dd2eb",
   "metadata": {},
   "outputs": [
    {
     "name": "stdout",
     "output_type": "stream",
     "text": [
      "{1: 2}\n"
     ]
    }
   ],
   "source": [
    "simple = {1:2}\n",
    "print(simple)"
   ]
  },
  {
   "cell_type": "code",
   "execution_count": 3,
   "id": "8785c568",
   "metadata": {},
   "outputs": [
    {
     "name": "stdout",
     "output_type": "stream",
     "text": [
      "{1: 1, 2: 4, 3: 9, 4: 16}\n"
     ]
    }
   ],
   "source": [
    "squares = {1:1,2:4,3:9,4:16}\n",
    "print(squares)"
   ]
  },
  {
   "cell_type": "code",
   "execution_count": 4,
   "id": "684b140b",
   "metadata": {},
   "outputs": [
    {
     "name": "stdout",
     "output_type": "stream",
     "text": [
      "{'p': 'o', 'y': 'h', 't': 'n', 'h': 't', 'o': 'y', 'n': 'p'}\n"
     ]
    }
   ],
   "source": [
    "cipher = {'p':'o','y':'h','t':'n','h':'t','o':'y','n':'p'}\n",
    "print(cipher)"
   ]
  },
  {
   "cell_type": "code",
   "execution_count": 5,
   "id": "94d831be",
   "metadata": {},
   "outputs": [
    {
     "name": "stdout",
     "output_type": "stream",
     "text": [
      "{'Rixner': True, 'Warren': False}\n"
     ]
    }
   ],
   "source": [
    "goodinstructors = {'Rixner':True,'Warren':False}\n",
    "print(goodinstructors)"
   ]
  },
  {
   "cell_type": "code",
   "execution_count": 6,
   "id": "2916cf24",
   "metadata": {},
   "outputs": [
    {
     "name": "stdout",
     "output_type": "stream",
     "text": [
      "{'China': ['Shanghai', 'Beijing'], 'USA': ['New York', 'Los Angeles'], 'Spain': ['Madrid', 'Barcelona'], 'Australia': ['Sydney', 'Melbourne'], 'Texas': ['Houston', 'San Antonio']}\n"
     ]
    }
   ],
   "source": [
    "cities = {'China':['Shanghai','Beijing'],\n",
    "         'USA':['New York','Los Angeles'],\n",
    "         'Spain':['Madrid','Barcelona'],\n",
    "         'Australia':['Sydney','Melbourne'],\n",
    "         'Texas':['Houston','San Antonio']}\n",
    "print(cities)"
   ]
  },
  {
   "cell_type": "markdown",
   "id": "37412133",
   "metadata": {},
   "source": [
    "# Creating Dictionaries"
   ]
  },
  {
   "cell_type": "code",
   "execution_count": 7,
   "id": "3ad9ebef",
   "metadata": {},
   "outputs": [
    {
     "name": "stdout",
     "output_type": "stream",
     "text": [
      "{}\n"
     ]
    }
   ],
   "source": [
    "empty2 = dict()\n",
    "print(empty2)"
   ]
  },
  {
   "cell_type": "code",
   "execution_count": 8,
   "id": "8e1a0e62",
   "metadata": {},
   "outputs": [
    {
     "name": "stdout",
     "output_type": "stream",
     "text": [
      "{1: 'one', 2: 'two', 3: 'three'}\n"
     ]
    }
   ],
   "source": [
    "data = [(1,'one'),(2,'two'),(3,'three')]\n",
    "names = dict(data)\n",
    "print(names)"
   ]
  },
  {
   "cell_type": "code",
   "execution_count": 9,
   "id": "d78b8b5f",
   "metadata": {},
   "outputs": [
    {
     "name": "stdout",
     "output_type": "stream",
     "text": [
      "{'p': 'o', 'y': 'h', 't': 'n', 'h': 't', 'o': 'y', 'n': 'p'}\n"
     ]
    }
   ],
   "source": [
    "cipher2 = dict(cipher)\n",
    "print(cipher2)"
   ]
  },
  {
   "cell_type": "markdown",
   "id": "f11da8ea",
   "metadata": {},
   "source": [
    "# Dictionary Lookup and Update"
   ]
  },
  {
   "cell_type": "code",
   "execution_count": 10,
   "id": "df6f4571",
   "metadata": {},
   "outputs": [
    {
     "name": "stdout",
     "output_type": "stream",
     "text": [
      "{'p': 'o', 'y': 'h', 't': 'n', 'h': 't', 'o': 'y', 'n': 'p'}\n"
     ]
    }
   ],
   "source": [
    "# Dictionary Lookup\n",
    "cipher = cipher = {'p':'o','y':'h','t':'n','h':'t','o':'y','n':'p'}\n",
    "print(cipher)"
   ]
  },
  {
   "cell_type": "code",
   "execution_count": 11,
   "id": "51946b23",
   "metadata": {},
   "outputs": [
    {
     "name": "stdout",
     "output_type": "stream",
     "text": [
      "n\n",
      "p\n"
     ]
    }
   ],
   "source": [
    "# use indexing with keys to access values\n",
    "print(cipher['t'])\n",
    "print(cipher['n'])"
   ]
  },
  {
   "cell_type": "code",
   "execution_count": 12,
   "id": "e39f87ea",
   "metadata": {},
   "outputs": [],
   "source": [
    "def encrypt(cipher,word):\n",
    "    \"\"\"encrypt word using cypher\"\"\"\n",
    "    encrypted = \"\"\n",
    "    for char in word:\n",
    "        encrypted += cipher[char]\n",
    "    return encrypted"
   ]
  },
  {
   "cell_type": "code",
   "execution_count": 13,
   "id": "8fa26312",
   "metadata": {},
   "outputs": [
    {
     "name": "stdout",
     "output_type": "stream",
     "text": [
      "python : ohntyp\n"
     ]
    }
   ],
   "source": [
    "python = 'python'\n",
    "enc = encrypt(cipher,python)\n",
    "print(python,':', enc)"
   ]
  },
  {
   "cell_type": "code",
   "execution_count": 14,
   "id": "7b88dc0e",
   "metadata": {},
   "outputs": [],
   "source": [
    "# It is an error to use a non-existent key\n",
    "# print(cipher[1])"
   ]
  },
  {
   "cell_type": "code",
   "execution_count": 15,
   "id": "997af29d",
   "metadata": {},
   "outputs": [
    {
     "name": "stdout",
     "output_type": "stream",
     "text": [
      "n\n",
      "None\n",
      "z\n"
     ]
    }
   ],
   "source": [
    "# use .get when you are unsure if the key exists\n",
    "print(cipher.get('t'))\n",
    "print(cipher.get(1))\n",
    "print(cipher.get(1,'z'))"
   ]
  },
  {
   "cell_type": "code",
   "execution_count": 16,
   "id": "111e6672",
   "metadata": {},
   "outputs": [
    {
     "name": "stdout",
     "output_type": "stream",
     "text": [
      "{'p': 'o', 'y': 'h', 't': 'n', 'h': 't', 'o': 'y', 'n': 'p'}\n"
     ]
    }
   ],
   "source": [
    "# Dictionary Update\n",
    "print(cipher)"
   ]
  },
  {
   "cell_type": "code",
   "execution_count": 17,
   "id": "4f631240",
   "metadata": {},
   "outputs": [
    {
     "name": "stdout",
     "output_type": "stream",
     "text": [
      "{'p': 'q', 'y': 'h', 't': 'n', 'h': 't', 'o': 'y', 'n': 'p'}\n"
     ]
    }
   ],
   "source": [
    "# Modify an existing key -> value mapping\n",
    "cipher['p'] = 'q'\n",
    "print(cipher)"
   ]
  },
  {
   "cell_type": "code",
   "execution_count": 18,
   "id": "8a203597",
   "metadata": {},
   "outputs": [
    {
     "name": "stdout",
     "output_type": "stream",
     "text": [
      "{'p': 'q', 'y': 'h', 't': 'n', 'h': 't', 'o': 'y', 'n': 'p', 'r': 'z'}\n"
     ]
    }
   ],
   "source": [
    "# Create a new key value mapping\n",
    "cipher['r'] = 'z'\n",
    "print(cipher)"
   ]
  },
  {
   "cell_type": "code",
   "execution_count": 19,
   "id": "5ce53e78",
   "metadata": {},
   "outputs": [
    {
     "name": "stdout",
     "output_type": "stream",
     "text": [
      "python ohntyp qhntyp\n"
     ]
    }
   ],
   "source": [
    "enc2 = encrypt(cipher,python)\n",
    "print(python, enc, enc2)"
   ]
  },
  {
   "cell_type": "markdown",
   "id": "3064a20a",
   "metadata": {},
   "source": [
    "# Checking for keys in a dictionary"
   ]
  },
  {
   "cell_type": "code",
   "execution_count": 20,
   "id": "94d81e33",
   "metadata": {},
   "outputs": [],
   "source": [
    "# using in\n",
    "mapping = {1: 5, 8: -3, 7: 22, 4: 13, 22: 17}"
   ]
  },
  {
   "cell_type": "code",
   "execution_count": 21,
   "id": "c8499233",
   "metadata": {},
   "outputs": [
    {
     "name": "stdout",
     "output_type": "stream",
     "text": [
      "True\n",
      "True\n"
     ]
    }
   ],
   "source": [
    "# keys\n",
    "print(1 in mapping)\n",
    "print(8 in mapping)"
   ]
  },
  {
   "cell_type": "code",
   "execution_count": 22,
   "id": "8cedce3a",
   "metadata": {},
   "outputs": [
    {
     "name": "stdout",
     "output_type": "stream",
     "text": [
      "False\n",
      "False\n"
     ]
    }
   ],
   "source": [
    "# values\n",
    "print(5 in mapping)\n",
    "print(-3 in mapping)"
   ]
  },
  {
   "cell_type": "code",
   "execution_count": 23,
   "id": "b53769d4",
   "metadata": {},
   "outputs": [
    {
     "name": "stdout",
     "output_type": "stream",
     "text": [
      "True\n"
     ]
    }
   ],
   "source": [
    "# Both\n",
    "print(22 in mapping)"
   ]
  },
  {
   "cell_type": "code",
   "execution_count": 24,
   "id": "8f1707e2",
   "metadata": {},
   "outputs": [
    {
     "name": "stdout",
     "output_type": "stream",
     "text": [
      "False\n"
     ]
    }
   ],
   "source": [
    "# Neither\n",
    "print(82 in mapping)"
   ]
  },
  {
   "cell_type": "markdown",
   "id": "51b047e6",
   "metadata": {},
   "source": [
    "# Protecting from Errors"
   ]
  },
  {
   "cell_type": "code",
   "execution_count": 25,
   "id": "76240701",
   "metadata": {},
   "outputs": [],
   "source": [
    "keys = [8, 14, 22, 25]\n",
    "mapping = {1: 5, 8: -3, 7: 22, 4: 13, 22: 17}"
   ]
  },
  {
   "cell_type": "code",
   "execution_count": 26,
   "id": "bd0475ea",
   "metadata": {},
   "outputs": [],
   "source": [
    "# for key in keys\n",
    "# print(key, mapping[key])"
   ]
  },
  {
   "cell_type": "code",
   "execution_count": 27,
   "id": "0bb403eb",
   "metadata": {},
   "outputs": [
    {
     "name": "stdout",
     "output_type": "stream",
     "text": [
      "8 -3\n",
      "14 not in mapping\n",
      "22 17\n",
      "25 not in mapping\n"
     ]
    }
   ],
   "source": [
    "for key in keys:\n",
    "    if key in mapping:\n",
    "        print(key, mapping[key])\n",
    "    else:\n",
    "        print(f\"{key} not in mapping\")"
   ]
  },
  {
   "cell_type": "markdown",
   "id": "4193ef91",
   "metadata": {},
   "source": [
    "#  Issues with Keys"
   ]
  },
  {
   "cell_type": "code",
   "execution_count": 28,
   "id": "a389aaaf",
   "metadata": {},
   "outputs": [
    {
     "name": "stdout",
     "output_type": "stream",
     "text": [
      "{4.0: 2, 'a': 3, True: 'true', False: 9}\n"
     ]
    }
   ],
   "source": [
    "mapping = {4.0:2, 'a':3, True: 'true',False:9}\n",
    "print(mapping)"
   ]
  },
  {
   "cell_type": "code",
   "execution_count": 29,
   "id": "d80a0720",
   "metadata": {},
   "outputs": [
    {
     "name": "stdout",
     "output_type": "stream",
     "text": [
      "{4.0: 2, 'a': 3, True: 7, False: 9}\n"
     ]
    }
   ],
   "source": [
    "mapping[1] = 7\n",
    "print(mapping)"
   ]
  },
  {
   "cell_type": "code",
   "execution_count": 30,
   "id": "d30a442b",
   "metadata": {},
   "outputs": [
    {
     "name": "stdout",
     "output_type": "stream",
     "text": [
      "{4.0: 2, 'a': 3, True: 7, False: 'false'}\n"
     ]
    }
   ],
   "source": [
    "mapping[0] = 'false'\n",
    "print(mapping)"
   ]
  },
  {
   "cell_type": "code",
   "execution_count": 31,
   "id": "887e028f",
   "metadata": {},
   "outputs": [
    {
     "name": "stdout",
     "output_type": "stream",
     "text": [
      "{4.0: 7, 'a': 3, True: 7, False: 'false'}\n"
     ]
    }
   ],
   "source": [
    "mapping[4] = 7\n",
    "print(mapping)"
   ]
  },
  {
   "cell_type": "code",
   "execution_count": 32,
   "id": "216ac61d",
   "metadata": {},
   "outputs": [
    {
     "name": "stdout",
     "output_type": "stream",
     "text": [
      "{4.0: 7, 'a': 3, True: 7, False: 'false', 'A': 'abc'}\n"
     ]
    }
   ],
   "source": [
    "mapping['A'] = 'abc'\n",
    "print(mapping)"
   ]
  },
  {
   "cell_type": "markdown",
   "id": "604f9f2c",
   "metadata": {},
   "source": [
    "# Dictionary Structure\n"
   ]
  },
  {
   "cell_type": "code",
   "execution_count": 33,
   "id": "eba72d97",
   "metadata": {},
   "outputs": [],
   "source": [
    "contacts = {'Scott Rixner': '1-101-555-1234',\n",
    "            'Joe Warren': '1-102-555-5678',\n",
    "            'Jane Doe': '1-103-555-9012'}"
   ]
  },
  {
   "cell_type": "code",
   "execution_count": 34,
   "id": "3a43dbc6",
   "metadata": {},
   "outputs": [],
   "source": [
    "# Value Lookup\n",
    "def lookup(contacts, name):\n",
    "    \"\"\"\n",
    "    Lookup name in contacts and return phone number.\n",
    "    If name is not in contacts, return an empty string.\n",
    "    \"\"\"\n",
    "    if name in contacts:\n",
    "        return contacts[name]\n",
    "    else:\n",
    "        return \"\""
   ]
  },
  {
   "cell_type": "code",
   "execution_count": 35,
   "id": "c58f1a5a",
   "metadata": {},
   "outputs": [
    {
     "name": "stdout",
     "output_type": "stream",
     "text": [
      "1-101-555-1234\n"
     ]
    }
   ],
   "source": [
    "l = lookup(contacts,'Scott Rixner')\n",
    "print(l)"
   ]
  },
  {
   "cell_type": "code",
   "execution_count": 36,
   "id": "e6dc4b6e",
   "metadata": {},
   "outputs": [],
   "source": [
    "def lookup2(contacts, name):\n",
    "    \"\"\"\n",
    "    Lookup name in contacts and return phone number.\n",
    "    If name is not in contact, return an empty string.\n",
    "    \"\"\"\n",
    "    return contacts.get(name, \"\")"
   ]
  },
  {
   "cell_type": "code",
   "execution_count": 37,
   "id": "726a9c81",
   "metadata": {},
   "outputs": [
    {
     "name": "stdout",
     "output_type": "stream",
     "text": [
      "1-103-555-9012\n"
     ]
    }
   ],
   "source": [
    "l2 = lookup2(contacts,'Jane Doe')\n",
    "print(l2)"
   ]
  },
  {
   "cell_type": "code",
   "execution_count": 38,
   "id": "b948cdfe",
   "metadata": {},
   "outputs": [
    {
     "name": "stdout",
     "output_type": "stream",
     "text": [
      "\n"
     ]
    }
   ],
   "source": [
    "l2 = lookup2(contacts,'Jane')\n",
    "print(l2)"
   ]
  },
  {
   "cell_type": "markdown",
   "id": "b5ba3937",
   "metadata": {},
   "source": [
    "# Iteration"
   ]
  },
  {
   "cell_type": "code",
   "execution_count": 39,
   "id": "a4b8fc58",
   "metadata": {},
   "outputs": [],
   "source": [
    "def print_contacts(contacts):\n",
    "    \"\"\"\n",
    "    Print the names of the contacts in our contacts list.\n",
    "    \"\"\"\n",
    "    for name in contacts:\n",
    "        print(name)"
   ]
  },
  {
   "cell_type": "code",
   "execution_count": 40,
   "id": "3c7b3d49",
   "metadata": {},
   "outputs": [
    {
     "name": "stdout",
     "output_type": "stream",
     "text": [
      "Scott Rixner\n",
      "Joe Warren\n",
      "Jane Doe\n",
      "None\n"
     ]
    }
   ],
   "source": [
    "p = print_contacts(contacts)\n",
    "print(p)"
   ]
  },
  {
   "cell_type": "code",
   "execution_count": 41,
   "id": "7e6a898a",
   "metadata": {},
   "outputs": [],
   "source": [
    "def print_contact_list(contacts):\n",
    "    \"\"\"\n",
    "    Print the names and phone numbers of the contacts in\n",
    "    our contacts list.\n",
    "    \"\"\"\n",
    "    for name, number in contacts.items():\n",
    "        print(name, \":\", number)"
   ]
  },
  {
   "cell_type": "code",
   "execution_count": 42,
   "id": "fb36c8e0",
   "metadata": {},
   "outputs": [
    {
     "name": "stdout",
     "output_type": "stream",
     "text": [
      "Scott Rixner : 1-101-555-1234\n",
      "Joe Warren : 1-102-555-5678\n",
      "Jane Doe : 1-103-555-9012\n",
      "None\n"
     ]
    }
   ],
   "source": [
    "pcl = print_contact_list(contacts)\n",
    "print(pcl)"
   ]
  },
  {
   "cell_type": "markdown",
   "id": "abbe6aa2",
   "metadata": {},
   "source": [
    "# Order\n"
   ]
  },
  {
   "cell_type": "code",
   "execution_count": 43,
   "id": "83fda63a",
   "metadata": {},
   "outputs": [],
   "source": [
    "def print_ordered(contacts):\n",
    "    \"\"\"\n",
    "    Print the names and phone numbers of the contacts\n",
    "    in our contacts list in alphabetical order.\n",
    "    \"\"\"\n",
    "    keys = contacts.keys()\n",
    "    names = sorted(keys)\n",
    "    for name in names:\n",
    "        print(name, \":\", contacts[name])"
   ]
  },
  {
   "cell_type": "code",
   "execution_count": 44,
   "id": "a4ef2735",
   "metadata": {},
   "outputs": [
    {
     "name": "stdout",
     "output_type": "stream",
     "text": [
      "Jane Doe : 1-103-555-9012\n",
      "Joe Warren : 1-102-555-5678\n",
      "Scott Rixner : 1-101-555-1234\n",
      "None\n"
     ]
    }
   ],
   "source": [
    "po = print_ordered(contacts)\n",
    "print(po)"
   ]
  },
  {
   "cell_type": "markdown",
   "id": "76a2d7b2",
   "metadata": {},
   "source": [
    "# Update"
   ]
  },
  {
   "cell_type": "code",
   "execution_count": 45,
   "id": "f946a77d",
   "metadata": {},
   "outputs": [],
   "source": [
    "def add_contact(contact, name, number):\n",
    "    \"\"\"\n",
    "    Add a new contact (name, number) to the contacts list.\n",
    "    \"\"\"\n",
    "    if name in contacts:\n",
    "        print(name, \"is already in contacts list!\")\n",
    "    else:\n",
    "        contacts[name] = number\n",
    "        "
   ]
  },
  {
   "cell_type": "code",
   "execution_count": 46,
   "id": "0d84477d",
   "metadata": {},
   "outputs": [
    {
     "name": "stdout",
     "output_type": "stream",
     "text": [
      "None\n"
     ]
    }
   ],
   "source": [
    "ac = add_contact(contacts,'Saleem', '1-103-555-9012')\n",
    "print(ac)"
   ]
  },
  {
   "cell_type": "code",
   "execution_count": 47,
   "id": "73d3aee4",
   "metadata": {},
   "outputs": [
    {
     "name": "stdout",
     "output_type": "stream",
     "text": [
      "{'Scott Rixner': '1-101-555-1234', 'Joe Warren': '1-102-555-5678', 'Jane Doe': '1-103-555-9012', 'Saleem': '1-103-555-9012'}\n"
     ]
    }
   ],
   "source": [
    "print(contacts)"
   ]
  },
  {
   "cell_type": "code",
   "execution_count": 48,
   "id": "b494cd27",
   "metadata": {},
   "outputs": [],
   "source": [
    "def update_contact(contacts, name, newnumber):\n",
    "    \"\"\"\n",
    "    Update an existing contact's number in the contacts list.\n",
    "    \"\"\"\n",
    "    if name in contacts:\n",
    "        contacts[name] = newnumber\n",
    "    else:\n",
    "        print(name, \"is not in contacts list!\")"
   ]
  },
  {
   "cell_type": "code",
   "execution_count": 49,
   "id": "983f858f",
   "metadata": {},
   "outputs": [
    {
     "name": "stdout",
     "output_type": "stream",
     "text": [
      "None\n"
     ]
    }
   ],
   "source": [
    "up = update_contact(contacts,'Jane Doe', '54-103-555-9012')\n",
    "print(up)"
   ]
  },
  {
   "cell_type": "code",
   "execution_count": 50,
   "id": "27a25de4",
   "metadata": {},
   "outputs": [
    {
     "name": "stdout",
     "output_type": "stream",
     "text": [
      "{'Scott Rixner': '1-101-555-1234', 'Joe Warren': '1-102-555-5678', 'Jane Doe': '54-103-555-9012', 'Saleem': '1-103-555-9012'}\n"
     ]
    }
   ],
   "source": [
    "print(contacts)"
   ]
  },
  {
   "cell_type": "code",
   "execution_count": 51,
   "id": "1c5f9b81",
   "metadata": {},
   "outputs": [],
   "source": [
    "def add_or_update_contact(contacts, name, number):\n",
    "    \"\"\"\n",
    "    Add contact or update it if it is already in the contacts list.\n",
    "    \"\"\"\n",
    "    contacts[name] = number"
   ]
  },
  {
   "cell_type": "code",
   "execution_count": 52,
   "id": "9ce78607",
   "metadata": {},
   "outputs": [
    {
     "name": "stdout",
     "output_type": "stream",
     "text": [
      "None\n"
     ]
    }
   ],
   "source": [
    "auc = add_or_update_contact(contacts,'Qurat', '8-564-345-9876')\n",
    "print(auc)"
   ]
  },
  {
   "cell_type": "code",
   "execution_count": 53,
   "id": "2530c03c",
   "metadata": {},
   "outputs": [
    {
     "name": "stdout",
     "output_type": "stream",
     "text": [
      "None\n"
     ]
    }
   ],
   "source": [
    "auc1 = add_or_update_contact(contacts,'Jane Doe', '54-103-555-9012')\n",
    "print(auc1)"
   ]
  },
  {
   "cell_type": "code",
   "execution_count": 54,
   "id": "5d871f84",
   "metadata": {},
   "outputs": [
    {
     "name": "stdout",
     "output_type": "stream",
     "text": [
      "{'Scott Rixner': '1-101-555-1234', 'Joe Warren': '1-102-555-5678', 'Jane Doe': '54-103-555-9012', 'Saleem': '1-103-555-9012', 'Qurat': '8-564-345-9876'}\n"
     ]
    }
   ],
   "source": [
    "print(contacts)"
   ]
  },
  {
   "cell_type": "markdown",
   "id": "df6e1f65",
   "metadata": {},
   "source": [
    "# Handling Dictionary Errors"
   ]
  },
  {
   "cell_type": "code",
   "execution_count": 55,
   "id": "f14a3711",
   "metadata": {},
   "outputs": [
    {
     "name": "stdout",
     "output_type": "stream",
     "text": [
      "{'Joe': 1, 'Scott': 2, 'John': 3}\n"
     ]
    }
   ],
   "source": [
    "simple_dict = {\"Joe\":1,\"Scott\":2,\"John\":3}\n",
    "print(simple_dict)"
   ]
  },
  {
   "cell_type": "code",
   "execution_count": 56,
   "id": "f927478f",
   "metadata": {},
   "outputs": [],
   "source": [
    "# bad_dict = {[\"Joe\",\"Warren\"]:1,[\"Scott\",\"Rixner\"]:2,[\"John\",\"Greiner\"]:3}\n",
    "# print(bad_dict)"
   ]
  },
  {
   "cell_type": "code",
   "execution_count": 57,
   "id": "0cbe0260",
   "metadata": {},
   "outputs": [
    {
     "name": "stdout",
     "output_type": "stream",
     "text": [
      "{('Joe', 'Warren'): 1, ('Scott', 'Rixner'): 2, ('John', 'Greiner'): 3}\n"
     ]
    }
   ],
   "source": [
    "good_dict = {(\"Joe\",\"Warren\"):1,(\"Scott\",\"Rixner\"):2,(\"John\",\"Greiner\"):3}\n",
    "print(good_dict)"
   ]
  },
  {
   "cell_type": "code",
   "execution_count": 58,
   "id": "dbcd1d96",
   "metadata": {},
   "outputs": [
    {
     "name": "stdout",
     "output_type": "stream",
     "text": [
      "1\n",
      "2\n"
     ]
    }
   ],
   "source": [
    "print(simple_dict[\"Joe\"])\n",
    "print(simple_dict[\"Scott\"])\n",
    "# print(simple_dict[\"Stephen\"])"
   ]
  },
  {
   "cell_type": "code",
   "execution_count": 59,
   "id": "2876d1ef",
   "metadata": {},
   "outputs": [
    {
     "name": "stdout",
     "output_type": "stream",
     "text": [
      "1\n",
      "3\n"
     ]
    }
   ],
   "source": [
    "print(good_dict[(\"Joe\",\"Warren\")])\n",
    "print(good_dict[(\"John\",\"Greiner\")])"
   ]
  },
  {
   "cell_type": "code",
   "execution_count": 60,
   "id": "acb97db2",
   "metadata": {},
   "outputs": [],
   "source": [
    "def lookup(my_dict, my_key, default_value):\n",
    "    \"\"\"\n",
    "    Given dictionary my_dict and key my_key,\n",
    "    return my dict[my_key] if my key is in my_dict\n",
    "    otherwise return default_value\n",
    "    \"\"\"\n",
    "    if my_key in my_dict:\n",
    "        return my_dict[my_key]\n",
    "    else:\n",
    "        return default_value"
   ]
  },
  {
   "cell_type": "code",
   "execution_count": 61,
   "id": "cc8551a0",
   "metadata": {},
   "outputs": [
    {
     "name": "stdout",
     "output_type": "stream",
     "text": [
      "-2\n"
     ]
    }
   ],
   "source": [
    "dictionary = {\"Student\":\"Sana\",\"Class\":\"Intermediate\",\"Age\":\"Young\"}\n",
    "l = lookup(dictionary,\"Condition\",-2)\n",
    "print(l)"
   ]
  },
  {
   "cell_type": "code",
   "execution_count": 62,
   "id": "abc5a430",
   "metadata": {},
   "outputs": [
    {
     "name": "stdout",
     "output_type": "stream",
     "text": [
      "1\n",
      "-1\n"
     ]
    }
   ],
   "source": [
    "simple_dict = {\"Joe\":1,\"Scott\":2,\"John\":3}\n",
    "print(lookup(simple_dict,\"Joe\",-1))\n",
    "print(lookup(simple_dict,\"Stephen\",-1))"
   ]
  },
  {
   "cell_type": "code",
   "execution_count": 63,
   "id": "9a17404a",
   "metadata": {},
   "outputs": [
    {
     "name": "stdout",
     "output_type": "stream",
     "text": [
      "1\n",
      "-1\n",
      "None\n"
     ]
    }
   ],
   "source": [
    "simple_dict = {\"Joe\":1,\"Scott\":2,\"John\":3}\n",
    "print(simple_dict.get(\"Joe\", -1))\n",
    "print(simple_dict.get(\"Stephen\", -1))\n",
    "print(simple_dict.get(\"Stephen\"))"
   ]
  },
  {
   "cell_type": "markdown",
   "id": "dd1b5cda",
   "metadata": {},
   "source": [
    "# Iterating over dictionaries"
   ]
  },
  {
   "cell_type": "code",
   "execution_count": 64,
   "id": "e0e8c53f",
   "metadata": {},
   "outputs": [
    {
     "name": "stdout",
     "output_type": "stream",
     "text": [
      "{'USA': 'Washington, D.C', 'China': 'Beijing', 'France': 'Paris', 'England': 'London', 'Italy': 'Rome', 'Russia': 'Moscow', 'Australia': 'Canberra', 'Peru': 'Lima', 'Japan': 'Tokyo'}\n"
     ]
    }
   ],
   "source": [
    "# Mapping from various cities to their country\n",
    "capitals = {\n",
    "    'USA':'Washington, D.C',\n",
    "    'China':'Beijing',\n",
    "    'France':'Paris',\n",
    "    'England':'London',\n",
    "    'Italy':'Rome',\n",
    "    'Russia':'Moscow',\n",
    "    'Australia':'Canberra',\n",
    "    'Peru':'Lima',\n",
    "    'Japan':'Tokyo'\n",
    "}\n",
    "print(capitals)"
   ]
  },
  {
   "cell_type": "markdown",
   "id": "47afda8a",
   "metadata": {},
   "source": [
    "# Direct Iteration"
   ]
  },
  {
   "cell_type": "code",
   "execution_count": 65,
   "id": "dcd755a9",
   "metadata": {},
   "outputs": [
    {
     "name": "stdout",
     "output_type": "stream",
     "text": [
      "Washington, D.C,USA\n",
      "Beijing,China\n",
      "Paris,France\n",
      "London,England\n",
      "Rome,Italy\n",
      "Moscow,Russia\n",
      "Canberra,Australia\n",
      "Lima,Peru\n",
      "Tokyo,Japan\n",
      "\n"
     ]
    }
   ],
   "source": [
    "for country in capitals:\n",
    "    print(f\"{capitals[country]},{country}\")\n",
    "print(\"\")"
   ]
  },
  {
   "cell_type": "markdown",
   "id": "f0914ac4",
   "metadata": {},
   "source": [
    "# Iteration Over Keys"
   ]
  },
  {
   "cell_type": "code",
   "execution_count": 66,
   "id": "ffa46546",
   "metadata": {},
   "outputs": [
    {
     "name": "stdout",
     "output_type": "stream",
     "text": [
      "Washington, D.C,USA\n",
      "Beijing,China\n",
      "Paris,France\n",
      "London,England\n",
      "Rome,Italy\n",
      "Moscow,Russia\n",
      "Canberra,Australia\n",
      "Lima,Peru\n",
      "Tokyo,Japan\n",
      "\n"
     ]
    }
   ],
   "source": [
    "for country in capitals.keys():\n",
    "    print(f\"{capitals[country]},{country}\")\n",
    "print(\"\")"
   ]
  },
  {
   "cell_type": "markdown",
   "id": "3608a603",
   "metadata": {},
   "source": [
    "# Iteration Over Values"
   ]
  },
  {
   "cell_type": "code",
   "execution_count": 67,
   "id": "8ae5ed0f",
   "metadata": {},
   "outputs": [
    {
     "name": "stdout",
     "output_type": "stream",
     "text": [
      "Capital city: Washington, D.C\n",
      "Capital city: Beijing\n",
      "Capital city: Paris\n",
      "Capital city: London\n",
      "Capital city: Rome\n",
      "Capital city: Moscow\n",
      "Capital city: Canberra\n",
      "Capital city: Lima\n",
      "Capital city: Tokyo\n",
      "\n"
     ]
    }
   ],
   "source": [
    "for city in capitals.values():\n",
    "    print(f\"Capital city: {city}\")\n",
    "print(\"\")"
   ]
  },
  {
   "cell_type": "markdown",
   "id": "ddff73de",
   "metadata": {},
   "source": [
    "# Iteration Over Items"
   ]
  },
  {
   "cell_type": "code",
   "execution_count": 68,
   "id": "dac64f20",
   "metadata": {
    "scrolled": true
   },
   "outputs": [
    {
     "name": "stdout",
     "output_type": "stream",
     "text": [
      "Washington, D.C, USA\n",
      "Beijing, China\n",
      "Paris, France\n",
      "London, England\n",
      "Rome, Italy\n",
      "Moscow, Russia\n",
      "Canberra, Australia\n",
      "Lima, Peru\n",
      "Tokyo, Japan\n",
      "\n"
     ]
    }
   ],
   "source": [
    "for country, city in capitals.items():\n",
    "    print(f\"{city}, {country}\")\n",
    "print(\"\")"
   ]
  },
  {
   "cell_type": "markdown",
   "id": "c9210b64",
   "metadata": {},
   "source": [
    "# Checking Membership"
   ]
  },
  {
   "cell_type": "code",
   "execution_count": 69,
   "id": "ae568886",
   "metadata": {},
   "outputs": [
    {
     "name": "stdout",
     "output_type": "stream",
     "text": [
      "True\n",
      "False\n"
     ]
    }
   ],
   "source": [
    "print('England' in capitals)\n",
    "print('Lima' in capitals)"
   ]
  },
  {
   "cell_type": "code",
   "execution_count": 70,
   "id": "057ddd60",
   "metadata": {},
   "outputs": [
    {
     "name": "stdout",
     "output_type": "stream",
     "text": [
      "False\n",
      "True\n"
     ]
    }
   ],
   "source": [
    "print('Moscow' in capitals.keys())\n",
    "print('Italy' in capitals.keys())"
   ]
  },
  {
   "cell_type": "code",
   "execution_count": 71,
   "id": "159d3c8e",
   "metadata": {},
   "outputs": [
    {
     "name": "stdout",
     "output_type": "stream",
     "text": [
      "False\n",
      "True\n"
     ]
    }
   ],
   "source": [
    "print('Houston' in capitals.values())\n",
    "print('Beijing' in capitals.values())"
   ]
  },
  {
   "cell_type": "markdown",
   "id": "ca29be1e",
   "metadata": {},
   "source": [
    "# Displaying Dictionaries"
   ]
  },
  {
   "cell_type": "code",
   "execution_count": 89,
   "id": "7db414e5",
   "metadata": {},
   "outputs": [],
   "source": [
    "NAME_DICT = {'Warren':'Joe','Rixner':'Scott','Greiner':'John'}"
   ]
  },
  {
   "cell_type": "code",
   "execution_count": 80,
   "id": "9d903fee",
   "metadata": {},
   "outputs": [],
   "source": [
    "def run_dict_methods():\n",
    "    \"\"\"\n",
    "    Run some simple examples of calls to dictionary methods\n",
    "    \"\"\"\n",
    "#     Note that these methods return  an iterable object (simple)\n",
    "    print(NAME_DICT.keys())\n",
    "    print(NAME_DICT.values())\n",
    "    print(NAME_DICT.items())\n",
    "    print()\n",
    "#     These objects can be converted to lists\n",
    "    print(list(NAME_DICT.keys()))\n",
    "    print(list(NAME_DICT.values()))\n",
    "    print(list(NAME_DICT.items()))"
   ]
  },
  {
   "cell_type": "code",
   "execution_count": 81,
   "id": "aaf09014",
   "metadata": {},
   "outputs": [
    {
     "name": "stdout",
     "output_type": "stream",
     "text": [
      "dict_keys(['Warren', 'Rixner', 'Greiner'])\n",
      "dict_values(['Joe', 'Scott', 'John'])\n",
      "dict_items([('Warren', 'Joe'), ('Rixner', 'Scott'), ('Greiner', 'John')])\n",
      "\n",
      "['Warren', 'Rixner', 'Greiner']\n",
      "['Joe', 'Scott', 'John']\n",
      "[('Warren', 'Joe'), ('Rixner', 'Scott'), ('Greiner', 'John')]\n"
     ]
    }
   ],
   "source": [
    "run_dict_methods()"
   ]
  },
  {
   "cell_type": "code",
   "execution_count": 90,
   "id": "b22a44c0",
   "metadata": {},
   "outputs": [],
   "source": [
    "def print_dict_keys(my_dict):\n",
    "    \"\"\"\n",
    "    Print the contents of a dictionary to the console\n",
    "    in a readable form using the keys() method\n",
    "    \"\"\"\n",
    "    print(f\"Printing dictionary {my_dict} in readable form\")\n",
    "    for key in my_dict: #note my_dict.keys() works here too\n",
    "        print(f\"Key = {key} has value = {my_dict[key]}\")"
   ]
  },
  {
   "cell_type": "code",
   "execution_count": 92,
   "id": "ecfebdd5",
   "metadata": {},
   "outputs": [
    {
     "name": "stdout",
     "output_type": "stream",
     "text": [
      "Printing dictionary {'name': 'sana', 'class': 'intermediate', 'level': 'three', 'age': 14} in readable form\n",
      "Key = name has value = sana\n",
      "Key = class has value = intermediate\n",
      "Key = level has value = three\n",
      "Key = age has value = 14\n"
     ]
    }
   ],
   "source": [
    "my_dic = {'name':'sana','class':'intermediate','level':'three',\"age\":14}\n",
    "print_dict_keys(my_dic)"
   ]
  },
  {
   "cell_type": "code",
   "execution_count": 91,
   "id": "3d1716bc",
   "metadata": {},
   "outputs": [],
   "source": [
    "def print_dict_items(my_dict):\n",
    "    \"\"\"\n",
    "    Print the contents of a dictionary to the console\n",
    "    in a readable form using the items() method\n",
    "    \"\"\"\n",
    "    print(f\"Printing dictionary {my_dict} in readable form\")\n",
    "    for (key, value) in my_dict.items():\n",
    "        print(f\"Key = {key} has value = {value}\")"
   ]
  },
  {
   "cell_type": "code",
   "execution_count": 93,
   "id": "38045437",
   "metadata": {},
   "outputs": [
    {
     "name": "stdout",
     "output_type": "stream",
     "text": [
      "Printing dictionary {'name': 'sana', 'class': 'intermediate', 'level': 'three', 'age': 14} in readable form\n",
      "Key = name has value = sana\n",
      "Key = class has value = intermediate\n",
      "Key = level has value = three\n",
      "Key = age has value = 14\n"
     ]
    }
   ],
   "source": [
    "print_dict_items(my_dic)"
   ]
  },
  {
   "cell_type": "code",
   "execution_count": 94,
   "id": "b8d7506b",
   "metadata": {},
   "outputs": [],
   "source": [
    "def run_print_dict_examples():\n",
    "    \"\"\"\n",
    "    Run some examples of printing dictionaries to the console\n",
    "    \"\"\"\n",
    "    print()\n",
    "    print_dict_keys(NAME_DICT)\n",
    "    print()\n",
    "    print_dict_items(NAME_DICT)"
   ]
  },
  {
   "cell_type": "code",
   "execution_count": 95,
   "id": "5e28111a",
   "metadata": {},
   "outputs": [
    {
     "name": "stdout",
     "output_type": "stream",
     "text": [
      "\n",
      "Printing dictionary {'Warren': 'Joe', 'Rixner': 'Scott', 'Greiner': 'John'} in readable form\n",
      "Key = Warren has value = Joe\n",
      "Key = Rixner has value = Scott\n",
      "Key = Greiner has value = John\n",
      "\n",
      "Printing dictionary {'Warren': 'Joe', 'Rixner': 'Scott', 'Greiner': 'John'} in readable form\n",
      "Key = Warren has value = Joe\n",
      "Key = Rixner has value = Scott\n",
      "Key = Greiner has value = John\n"
     ]
    }
   ],
   "source": [
    "run_print_dict_examples()"
   ]
  },
  {
   "cell_type": "code",
   "execution_count": null,
   "id": "4b1aba98",
   "metadata": {},
   "outputs": [],
   "source": []
  }
 ],
 "metadata": {
  "kernelspec": {
   "display_name": "Python 3 (ipykernel)",
   "language": "python",
   "name": "python3"
  },
  "language_info": {
   "codemirror_mode": {
    "name": "ipython",
    "version": 3
   },
   "file_extension": ".py",
   "mimetype": "text/x-python",
   "name": "python",
   "nbconvert_exporter": "python",
   "pygments_lexer": "ipython3",
   "version": "3.9.12"
  }
 },
 "nbformat": 4,
 "nbformat_minor": 5
}
